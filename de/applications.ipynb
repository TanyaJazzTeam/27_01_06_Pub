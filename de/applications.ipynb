{
  "cells": [
    {
      "attachments": {
      },
      "cell_type": "markdown",
      "metadata": {
      },
      "source": [
        "## Beispiele und Anwendungen\n",
        "\n",
        "In dieser Lektion werden wir einige Beispiele für Variationsalgorithmen und deren Anwendung untersuchen:\n",
        "\n",
        "- So schreiben Sie einen benutzerdefinierten Variationsalgorithmus\n",
        "- So wenden Sie einen Variationsalgorithmus an, um minimale Eigenwerte zu finden\n",
        "- Wie man Variationsalgorithmen nutzt, um Anwendungsfälle zu lösen"
      ]
    },
    {
      "attachments": {
      },
      "cell_type": "markdown",
      "metadata": {
      },
      "source": [
        "### Problemdefinitionen\n",
        "\n",
        "Stellen Sie sich vor, wir möchten einen Variationsalgorithmus verwenden, um den Eigenwert der folgenden Observablen zu ermitteln:\n",
        "\n",
        "$$\n",
        "\\hat{O}_1 = 2 II - 2 XX + 3 YY - 3 ZZ,\n",
        "$$\n",
        "\n",
        "Diese Observable hat die folgenden Eigenwerte:\n",
        "\n",
        "$$\n",
        "\\left\\{\n",
        "\\begin{array}{c}\n",
        "\\lambda_0 = -6 \\\\\n",
        "\\lambda_1 = 4 \\\\\n",
        "\\lambda_2 = 4 \\\\\n",
        "\\lambda_3 = 6\n",
        "\\end{array}\n",
        "\\right\\}\n",
        "$$\n",
        "\n",
        "Und Eigenzustände:\n",
        "\n",
        "$$\n",
        "\\left\\{\n",
        "\\begin{array}{c}\n",
        "|\\phi_0\\rangle = \\frac{1}{\\sqrt{2}}(|00\\rangle + |11\\rangle)\\\\\n",
        "|\\phi_1\\rangle = \\frac{1}{\\sqrt{2}}(|00\\rangle - |11\\rangle)\\\\\n",
        "|\\phi_2\\rangle = \\frac{1}{\\sqrt{2}}(|01\\rangle - |10\\rangle)\\\\\n",
        "|\\phi_3\\rangle = \\frac{1}{\\sqrt{2}}(|01\\rangle + |10\\rangle)\n",
        "\\end{array}\n",
        "\\right\\}\n",
        "$$"
      ]
    },
    {
      "cell_type": "code",
      "execution_count": null,
      "metadata": {
      },
      "outputs": [

      ],
      "source": [
        "from qiskit.quantum_info import SparsePauliOp\n",
        "\n",
        "observable = SparsePauliOp.from_list([(\"II\", 2), (\"XX\", -2), (\"YY\", 3), (\"ZZ\", -3)])"
      ]
    },
    {
      "attachments": {
      },
      "cell_type": "markdown",
      "metadata": {
      },
      "source": [
        "## Benutzerdefinierte VQE\n",
        "\n",
        "Wir werden zunächst untersuchen, wie man eine VQE-Instanz manuell erstellt, um den niedrigsten Eigenwert für $\\hat{O}_1$ zu finden. Dies beinhaltet eine Vielzahl von Techniken, die wir in diesem Kurs behandelt haben. "
      ]
    },
    {
      "cell_type": "code",
      "execution_count": null,
      "metadata": {
      },
      "outputs": [

      ],
      "source": [
        "from qiskit.circuit.library import TwoLocal\n",
        "from qiskit.quantum_info import SparsePauliOp\n",
        "from qiskit import QuantumCircuit\n",
        "from qiskit_ibm_runtime import QiskitRuntimeService, Estimator\n",
        "import numpy as np\n",
        "\n",
        "# Add your token below\n",
        "service = QiskitRuntimeService(\n",
        "    channel=\"ibm_quantum\",\n",
        ")\n",
        "\n",
        "def cost_function_vqe(theta):\n",
        "    observable = SparsePauliOp.from_list([(\"II\", 2), (\"XX\", -2), (\"YY\", 3), (\"ZZ\", -3)])\n",
        "    reference_circuit = QuantumCircuit(2)\n",
        "    reference_circuit.x(0)\n",
        "\n",
        "    variational_form = TwoLocal(\n",
        "        2,\n",
        "        rotation_blocks=[\"rz\", \"ry\"],\n",
        "        entanglement_blocks=\"cx\",\n",
        "        entanglement=\"linear\",\n",
        "        reps=1,\n",
        "    )\n",
        "    ansatz = reference_circuit.compose(variational_form)\n",
        "\n",
        "    backend = service.backend(\"ibmq_qasm_simulator\")\n",
        "    \n",
        "    # Use estimator to get the expected values corresponding to each ansatz\n",
        "    estimator = Estimator(session=backend)\n",
        "    job = estimator.run(ansatz, observable, theta)\n",
        "    values = job.result().values\n",
        "\n",
        "    return values"
      ]
    },
    {
      "attachments": {
      },
      "cell_type": "markdown",
      "metadata": {
      },
      "source": [
        "Mit dieser Kostenfunktion können wir optimale Parameter berechnen"
      ]
    },
    {
      "cell_type": "code",
      "execution_count": null,
      "metadata": {
      },
      "outputs": [

      ],
      "source": [
        "from qiskit.algorithms.optimizers import COBYLA\n",
        "\n",
        "initial_theta = np.ones(8)\n",
        "optimizer = COBYLA()\n",
        "\n",
        "optimizer_result = optimizer.minimize(fun=cost_function_vqe, x0=initial_theta)\n",
        "\n",
        "optimal_parameters = optimizer_result.x\n",
        "print(optimal_parameters)"
      ]
    },
    {
      "attachments": {
      },
      "cell_type": "markdown",
      "metadata": {
      },
      "source": [
        "Schließlich können wir unsere optimalen Parameter verwenden, um unsere minimalen Eigenwerte zu berechnen:"
      ]
    },
    {
      "cell_type": "code",
      "execution_count": null,
      "metadata": {
      },
      "outputs": [

      ],
      "source": [
        "observable = SparsePauliOp.from_list([(\"II\", 2), (\"XX\", -2), (\"YY\", 3), (\"ZZ\", -3)])\n",
        "reference_circuit = QuantumCircuit(2)\n",
        "reference_circuit.x(0)\n",
        "\n",
        "variational_form = TwoLocal(\n",
        "    2,\n",
        "    rotation_blocks=[\"rz\", \"ry\"],\n",
        "    entanglement_blocks=\"cx\",\n",
        "    entanglement=\"linear\",\n",
        "    reps=1,\n",
        ")\n",
        "ansatz = reference_circuit.compose(variational_form)\n",
        "solution = ansatz.bind_parameters(optimal_parameters)\n",
        "\n",
        "backend = service.backend(\"ibmq_qasm_simulator\")\n",
        "estimator = Estimator(session=backend)\n",
        "job = estimator.run(solution, observable)\n",
        "values = job.result().values\n",
        "\n",
        "experimental_min_eigenvalue = values[0]\n",
        "print(experimental_min_eigenvalue)"
      ]
    },
    {
      "cell_type": "code",
      "execution_count": null,
      "metadata": {
      },
      "outputs": [

      ],
      "source": [
        "from numpy.linalg import eigvalsh\n",
        "\n",
        "solution_eigenvalue = min(eigvalsh(observable.to_matrix()))\n",
        "print(\n",
        "    f\"Percent error: {abs((experimental_min_eigenvalue - solution_eigenvalue)/solution_eigenvalue):.2e}\"\n",
        ")"
      ]
    },
    {
      "attachments": {
      },
      "cell_type": "markdown",
      "metadata": {
      },
      "source": [
        "Wie Sie sehen, kommt das Ergebnis dem Ideal sehr nahe. "
      ]
    },
    {
      "attachments": {
      },
      "cell_type": "markdown",
      "metadata": {
      },
      "source": [
        "## Konfigurieren von Qiskits VQE"
      ]
    },
    {
      "attachments": {
      },
      "cell_type": "markdown",
      "metadata": {
      },
      "source": [
        "Der Einfachheit halber können wir auch vorhandene Qiskit- [VQE-](https://qiskit.org/documentation/stubs/qiskit.algorithms.minimum_eigensolvers.VQE.html) Implementierungen verwenden, um den niedrigsten Eigenwert der ersten Observablen $\\hat{O}_1$ zu finden und uns alle Ausgabeergebnisse anzusehen.\n",
        "\n",
        "In diesem Fall verwenden wir Folgendes:\n",
        "\n",
        "- Wir beginnen mit der Untersuchung des Referenzoperators $\\equiv I$, um die Geschwindigkeitssteigerungen zu demonstrieren, die dadurch möglich sind\n",
        "- Qiskit Terras [`Estimator`](https://qiskit.org/documentation/stubs/qiskit.primitives.Estimator.html#qiskit.primitives.Estimator)\n",
        "- [`SLSQP`](https://qiskit.org/documentation/stubs/qiskit.algorithms.optimizers.SLSQP.html) Optimierer (d. h. Sequential Least SQuares Programming).\n",
        "- Zusätzlich werden wir den Anfangspunkt für den `SLSQP` Optimierer auf $\\vec\\theta_0 = (1, \\cdots, 1)$ setzen."
      ]
    },
    {
      "cell_type": "code",
      "execution_count": null,
      "metadata": {
      },
      "outputs": [

      ],
      "source": [
        "from qiskit.primitives import Estimator\n",
        "from qiskit.algorithms.optimizers import SLSQP\n",
        "from qiskit.algorithms.minimum_eigensolvers import VQE\n",
        "import numpy as np\n",
        "\n",
        "estimator = Estimator()\n",
        "optimizer = SLSQP()\n",
        "ansatz = TwoLocal(\n",
        "    2,\n",
        "    rotation_blocks=[\"rz\", \"ry\"],\n",
        "    entanglement_blocks=\"cx\",\n",
        "    entanglement=\"linear\",\n",
        "    reps=1,\n",
        ")\n",
        "\n",
        "vqe = VQE(estimator, ansatz, optimizer, initial_point=np.ones(8))"
      ]
    },
    {
      "attachments": {
      },
      "cell_type": "markdown",
      "metadata": {
      },
      "source": [
        "Nachdem wir nun die `VQE` Instanz initialisiert haben, können wir die Ergebnisse mit der Methode [`VQE.compute_minimum_eigenvalue`](https://qiskit.org/documentation/stubs/qiskit.algorithms.minimum_eigensolvers.VQE.compute_minimum_eigenvalue.html#qiskit.algorithms.minimum_eigensolvers.VQE.compute_minimum_eigenvalue) abrufen. Schauen wir uns die Ergebnisse an."
      ]
    },
    {
      "cell_type": "code",
      "execution_count": null,
      "metadata": {
      },
      "outputs": [

      ],
      "source": [
        "result = vqe.compute_minimum_eigenvalue(observable)\n",
        "print(result)"
      ]
    },
    {
      "cell_type": "markdown",
      "metadata": {
      },
      "source": [
        "Schauen wir uns das `optimizer_result` an:"
      ]
    },
    {
      "cell_type": "code",
      "execution_count": null,
      "metadata": {
      },
      "outputs": [

      ],
      "source": [
        "print(result.optimizer_result)"
      ]
    },
    {
      "cell_type": "markdown",
      "metadata": {
      },
      "source": [
        "Von all diesen Informationen ist jedoch der Eigenwert der wichtigste Teil. Vergleichen wir es mit dem theoretischen Wert:"
      ]
    },
    {
      "cell_type": "code",
      "execution_count": null,
      "metadata": {
      },
      "outputs": [

      ],
      "source": [
        "from numpy.linalg import eigvalsh\n",
        "\n",
        "eigenvalues = eigvalsh(observable.to_matrix())\n",
        "min_eigenvalue = eigenvalues[0]\n",
        "\n",
        "print(\"EIGENVALUES:\")\n",
        "print(f\"  - Theoretical: {min_eigenvalue}.\")\n",
        "print(f\"  - VQE: {result.eigenvalue}\")\n",
        "print(\n",
        "    f\"Percent error >> {abs((result.eigenvalue - min_eigenvalue)/min_eigenvalue):.2e}\"\n",
        ")"
      ]
    },
    {
      "attachments": {
      },
      "cell_type": "markdown",
      "metadata": {
      },
      "source": [
        "Wie Sie sehen, kommt das Ergebnis dem Ideal sehr nahe.\n",
        "\n",
        "Allerdings haben wir uns die Eigenzustände noch nicht angesehen, da sie nicht Teil der `results` waren. Zu diesem Zweck binden wir die optimalen Parameterwerte `result.optimal_parameters` an `results.optimal_circuit` und definieren einen [`Statevector`](https://qiskit.org/documentation/stubs/qiskit.quantum_info.Statevector.html) aus dieser gebundenen (dh nicht parametrisierten) Schaltung."
      ]
    },
    {
      "cell_type": "code",
      "execution_count": null,
      "metadata": {
      },
      "outputs": [

      ],
      "source": [
        "from qiskit.quantum_info import Statevector\n",
        "\n",
        "optimal_circuit = result.optimal_circuit.bind_parameters(result.optimal_parameters)\n",
        "optimal_vector = Statevector(optimal_circuit)\n",
        "\n",
        "rounded_optimal_vector = np.round(optimal_vector.data, 3)\n",
        "print(f\"EIGENSTATE: {rounded_optimal_vector}\")"
      ]
    },
    {
      "attachments": {
      },
      "cell_type": "markdown",
      "metadata": {
      },
      "source": [
        "Dieses Ergebnis scheint dem theoretischen von $\\frac{1}{\\sqrt{2}}(|00\\rangle + |11\\rangle) \\equiv [\\frac{1}{\\sqrt{2} },0,0,\\frac{1}{\\sqrt{2}}]$. Beachten Sie jedoch, dass Eigenvektoren bis zu einem konstanten Faktor definiert sind. Darüber hinaus sind Quantenzustände bis zu einer globalen Phase immer normalisiert und äquivalent, sodass wir leicht überprüfen können, dass diese beiden Zustandsvektoren äquivalent sind."
      ]
    },
    {
      "cell_type": "code",
      "execution_count": null,
      "metadata": {
      },
      "outputs": [

      ],
      "source": [
        "from numpy.linalg import eigh\n",
        "\n",
        "_, eigenvectors = eigh(observable.to_matrix())\n",
        "min_eigenvector = eigenvectors.T[0]  # Note: transpose to extract by index\n",
        "\n",
        "optimal_vector.equiv(min_eigenvector, atol=1e-4)"
      ]
    },
    {
      "cell_type": "markdown",
      "metadata": {
      },
      "source": [
        "Wir können daraus schließen, dass der von uns erhaltene Zustand dem Idealzustand bis zu 10^{-4}$ entspricht."
      ]
    },
    {
      "cell_type": "markdown",
      "metadata": {
      },
      "source": [
        "### Referenzstatus hinzufügen\n",
        "\n",
        "Im vorherigen Beispiel haben wir keinen Referenzoperator $U_R$ verwendet. Denken wir nun darüber nach, wie der ideale Eigenzustand $\\frac{1}{\\sqrt{2}}(|00\\rangle + |11\\rangle)$ erhalten werden kann. Betrachten Sie die folgende Schaltung."
      ]
    },
    {
      "cell_type": "code",
      "execution_count": null,
      "metadata": {
      },
      "outputs": [

      ],
      "source": [
        "from qiskit import QuantumCircuit\n",
        "\n",
        "ideal_qc = QuantumCircuit(2)\n",
        "ideal_qc.h(0)\n",
        "ideal_qc.cx(0, 1)\n",
        "\n",
        "ideal_qc.draw(\"mpl\")"
      ]
    },
    {
      "cell_type": "markdown",
      "metadata": {
      },
      "source": [
        "Wir können schnell überprüfen, ob diese Schaltung uns den gewünschten Zustand liefert."
      ]
    },
    {
      "cell_type": "code",
      "execution_count": null,
      "metadata": {
      },
      "outputs": [

      ],
      "source": [
        "Statevector(ideal_qc)"
      ]
    },
    {
      "attachments": {
      },
      "cell_type": "markdown",
      "metadata": {
      },
      "source": [
        "Nachdem wir nun gesehen haben, wie eine Schaltung aussieht, die den Lösungszustand vorbereitet, erscheint es sinnvoll, ein Hadamard-Gatter als Referenzschaltung zu verwenden, sodass der vollständige Ansatz zu Folgendem wird:"
      ]
    },
    {
      "cell_type": "code",
      "execution_count": null,
      "metadata": {
      },
      "outputs": [

      ],
      "source": [
        "reference = QuantumCircuit(2)\n",
        "reference.h(0)\n",
        "# Include barrier to separate reference from variational form\n",
        "reference.barrier()\n",
        "\n",
        "ref_ansatz = ansatz.decompose().compose(reference, front=True)\n",
        "\n",
        "ref_ansatz.draw(\"mpl\")"
      ]
    },
    {
      "cell_type": "markdown",
      "metadata": {
      },
      "source": [
        "Für diese neue Schaltung konnte die ideale Lösung erreicht werden, wenn alle Parameter auf $0$ eingestellt waren, was bestätigt, dass die Wahl der Referenzschaltung sinnvoll ist.\n",
        "\n",
        "Vergleichen wir nun die Anzahl der Kostenfunktionsauswertungen, Optimierungsiterationen und die benötigte Zeit mit denen des vorherigen Versuchs."
      ]
    },
    {
      "cell_type": "code",
      "execution_count": null,
      "metadata": {
      },
      "outputs": [

      ],
      "source": [
        "num_evaluations = result.cost_function_evals\n",
        "num_iterations = result.optimizer_result.nit\n",
        "time = result.optimizer_time\n",
        "\n",
        "print(\"NO REFERENCE STATE:\")\n",
        "print(f\"  - Number of evaluations: {num_evaluations}\")\n",
        "print(f\"  - Number of iterations: {num_iterations}\")\n",
        "print(f\"  - Time: {time:.5f} seconds\")"
      ]
    },
    {
      "cell_type": "code",
      "execution_count": null,
      "metadata": {
      },
      "outputs": [

      ],
      "source": [
        "# You can change the ansatz of the already defined vqe object instead of creating a new one\n",
        "vqe.ansatz = ref_ansatz\n",
        "\n",
        "ref_result = vqe.compute_minimum_eigenvalue(observable)"
      ]
    },
    {
      "cell_type": "code",
      "execution_count": null,
      "metadata": {
      },
      "outputs": [

      ],
      "source": [
        "num_evaluations_ref = ref_result.cost_function_evals\n",
        "num_iterations_ref = ref_result.optimizer_result.nit\n",
        "time_ref = ref_result.optimizer_time\n",
        "\n",
        "print(\"ADDED REFERENCE STATE:\")\n",
        "print(f\"  - Number of evaluations: {num_evaluations_ref}\")\n",
        "print(f\"  - Number of iterations: {num_iterations_ref}\")\n",
        "print(f\"  - Time: {time_ref:.5f} seconds\")\n",
        "print()\n",
        "\n",
        "if num_evaluations_ref < num_evaluations:\n",
        "    print(\">> Number of cost function evaluations improved\")\n",
        "elif num_evaluations_ref > num_evaluations:\n",
        "    print(\">> Number of cost function evaluations worsened\")\n",
        "if num_iterations_ref < num_iterations:\n",
        "    print(\">> Number of iterations improved\")\n",
        "elif num_iterations_ref > num_iterations:\n",
        "    print(\">> Number of iterations worsened\")\n",
        "if time_ref < time:\n",
        "    print(\">> Time improved\")\n",
        "elif time_ref > time:\n",
        "    print(\">> Time worsened\")"
      ]
    },
    {
      "cell_type": "markdown",
      "metadata": {
      },
      "source": [
        "### Anfangspunkt ändern"
      ]
    },
    {
      "cell_type": "markdown",
      "metadata": {
      },
      "source": [
        "Nachdem wir nun die Auswirkung des Hinzufügens des Referenzzustands gesehen haben, gehen wir darauf ein, was passiert, wenn wir verschiedene Anfangspunkte $\\vec{\\theta_0}$ wählen. Insbesondere werden wir $\\vec{\\theta_0}=(0,0,0,0,6,0,0,0)$ und $\\vec{\\theta_0}=(6,6,6,6,6) verwenden ,6,6,6,6)$. Denken Sie daran, dass, wie bei der Einführung des Referenzzustands besprochen, die ideale Lösung gefunden würde, wenn alle Parameter $0$ wären, sodass der erste Anfangspunkt weniger Auswertungen, Iterationen und Zeit erfordern sollte."
      ]
    },
    {
      "cell_type": "code",
      "execution_count": null,
      "metadata": {
      },
      "outputs": [

      ],
      "source": [
        "vqe.initial_point = [0, 0, 0, 0, 6, 0, 0, 0]\n",
        "\n",
        "result = vqe.compute_minimum_eigenvalue(observable)\n",
        "\n",
        "num_evaluations = result.cost_function_evals\n",
        "num_iterations = result.optimizer_result.nit\n",
        "time = result.optimizer_time\n",
        "\n",
        "print(f\"INITIAL POINT: {vqe.initial_point}\")\n",
        "print(f\"  - Number of evaluations: {num_evaluations}\")\n",
        "print(f\"  - Number of iterations: {num_iterations}\")\n",
        "print(f\"  - Time: {time:.5f} seconds\")"
      ]
    },
    {
      "cell_type": "code",
      "execution_count": null,
      "metadata": {
      },
      "outputs": [

      ],
      "source": [
        "vqe.initial_point = 6 * np.ones(8)\n",
        "\n",
        "result = vqe.compute_minimum_eigenvalue(observable)\n",
        "\n",
        "num_evaluations = result.cost_function_evals\n",
        "num_iterations = result.optimizer_result.nit\n",
        "time = result.optimizer_time\n",
        "\n",
        "print(f\"INITIAL POINT: {vqe.initial_point}\")\n",
        "print(f\"  - Number of evaluations: {num_evaluations}\")\n",
        "print(f\"  - Number of iterations: {num_iterations}\")\n",
        "print(f\"  - Time: {time:.5f} seconds\")"
      ]
    },
    {
      "cell_type": "markdown",
      "metadata": {
      },
      "source": [
        "## VQD-Beispiel"
      ]
    },
    {
      "attachments": {
      },
      "cell_type": "markdown",
      "metadata": {
      },
      "source": [
        "Anstatt nur nach dem niedrigsten Eigenwert unserer Observablen zu suchen, suchen wir nun nach allen $4$. Nach der Notation aus dem vorherigen Kapitel (sowie der aus der [VQD-](https://qiskit.org/documentation/stubs/qiskit.algorithms.eigensolvers.VQD.html) Klasse von Qiskit) bedeutet das $k=4$.\n",
        "\n",
        "Denken Sie daran, dass die Kostenfunktionen von VQD sind:\n",
        "\n",
        "$$\n",
        "C_{l}(\\vec{\\theta}) := \n",
        "\\langle \\psi(\\vec{\\theta}) | \\hat{H} | \\psi(\\vec{\\theta})\\rangle + \n",
        "\\sum_{j=0}^{l-1}\\beta_j |\\langle \\psi(\\vec{\\theta})| \\psi(\\vec{\\theta^j})\\rangle  |^2 \n",
        "\\quad \\forall l\\in\\{1,\\cdots,k\\}=\\{1,\\cdots,4\\}\n",
        "$$\n",
        "\n",
        "Dies ist besonders wichtig, da ein Vektor $\\vec{\\beta}=(\\beta_0,\\cdots,\\beta_{k-1})$ (in diesem Fall $(\\beta_0, \\beta_1, \\beta_2, \\beta_3)$ ) muss als Argument übergeben werden, wenn wir das `VQD` Objekt definieren.\n",
        "\n",
        "Außerdem werden in Qiskits Implementierung von VQD anstelle der im vorherigen Notizbuch beschriebenen effektiven Observablen die Genauigkeiten $|\\langle \\psi(\\vec{\\theta})| berücksichtigt \\psi(\\vec{\\theta^j})\\rangle |^2$ werden direkt über den [`ComputeUncompute`](https://qiskit.org/documentation/stubs/qiskit.algorithms.state_fidelities.ComputeUncompute.html) Algorithmus berechnet, der ein `Sampler` Grundelement nutzt, um die Wahrscheinlichkeit abzutasten, $|0\\rangle$ für die Schaltung $U_A^\\ zu erhalten Dolch(\\vec{\\theta})U_A(\\vec{\\theta^j})$. Das funktioniert genau deshalb, weil diese Wahrscheinlichkeit ist\n",
        "\n",
        "$$\n",
        "\\begin{aligned}\n",
        "\n",
        "p_0\n",
        "\n",
        "& = |\\langle 0|U_A^\\dagger(\\vec{\\theta})U_A(\\vec{\\theta^j})|0\\rangle|^2 \\\\[1mm]\n",
        "\n",
        "& = |\\big(\\langle 0|U_A^\\dagger(\\vec{\\theta})\\big)\\big(U_A(\\vec{\\theta^j})|0\\rangle\\big)|^2 \\\\[1mm]\n",
        "\n",
        "& = |\\langle \\psi(\\vec{\\theta}) |\\psi(\\vec{\\theta^j}) \\rangle|^2 \\\\[1mm]\n",
        "\n",
        "\\end{aligned}\n",
        "$$\n",
        "\n",
        "Um schließlich einen neuen Optimierer auszuprobieren, verwenden wir [`COBYLA`](https://qiskit.org/documentation/stubs/qiskit.algorithms.optimizers.COBYLA.html) anstelle von `SLSQP` ."
      ]
    },
    {
      "cell_type": "code",
      "execution_count": null,
      "metadata": {
      },
      "outputs": [

      ],
      "source": [
        "from qiskit.primitives import Sampler\n",
        "from qiskit.algorithms.optimizers import COBYLA\n",
        "from qiskit.algorithms.state_fidelities import ComputeUncompute\n",
        "from qiskit.algorithms.eigensolvers import VQD\n",
        "\n",
        "optimizer = COBYLA()\n",
        "sampler = Sampler()\n",
        "estimator = Estimator()\n",
        "fidelity = ComputeUncompute(sampler)\n",
        "\n",
        "k = 4\n",
        "betas = [40, 60, 30, 30]\n",
        "\n",
        "vqd = VQD(estimator, fidelity, ansatz, optimizer, k=k, betas=betas)"
      ]
    },
    {
      "attachments": {
      },
      "cell_type": "markdown",
      "metadata": {
      },
      "source": [
        "Beachten Sie, dass der einzige API-Unterschied zu den vorherigen Beispielen darin besteht, dass wir statt der Methode `VQE.compute_minimum_eigenvalue` [`VQD.compute_eigenvalues`](https://qiskit.org/documentation/stubs/qiskit.algorithms.eigensolvers.VQD.compute_eigenvalues.html) ​​aufrufen. Beginnen wir mit der Untersuchung der folgenden Beobachtungsgröße:\n",
        "\n",
        "$$\n",
        "\\hat{O}_2 := 2 II - 3 XX + 2 YY - 4 ZZ\n",
        "$$\n",
        "\n",
        "Diese Observable hat die folgenden Eigenwerte:\n",
        "\n",
        "$$\n",
        "\\left\\{\n",
        "\\begin{array}{c}\n",
        "\\lambda_0 = -7 \\\\\n",
        "\\lambda_1 = 3\\\\\n",
        "\\lambda_2 = 5 \\\\\n",
        "\\lambda_3 = 7\n",
        "\\end{array}\n",
        "\\right\\}\n",
        "$$\n",
        "\n",
        "Und Eigenzustände:\n",
        "\n",
        "$$\n",
        "\\left\\{\n",
        "\\begin{array}{c}\n",
        "|\\phi_0\\rangle = \\frac{1}{\\sqrt{2}}(|00\\rangle + |11\\rangle)\\\\\n",
        "|\\phi_1\\rangle = \\frac{1}{\\sqrt{2}}(|00\\rangle - |11\\rangle)\\\\\n",
        "|\\phi_2\\rangle = \\frac{1}{\\sqrt{2}}(|01\\rangle + |10\\rangle)\\\\\n",
        "|\\phi_3\\rangle = \\frac{1}{\\sqrt{2}}(|01\\rangle - |10\\rangle)\n",
        "\\end{array}\n",
        "\\right\\}\n",
        "$$"
      ]
    },
    {
      "cell_type": "code",
      "execution_count": null,
      "metadata": {
      },
      "outputs": [

      ],
      "source": [
        "observable_2 = SparsePauliOp.from_list([(\"II\", 2), (\"XX\", -3), (\"YY\", 2), (\"ZZ\", -4)])\n",
        "\n",
        "result = vqd.compute_eigenvalues(observable_2)\n",
        "print(result)"
      ]
    },
    {
      "cell_type": "markdown",
      "metadata": {
      },
      "source": [
        "Das [`VQDResult`](https://qiskit.org/documentation/stubs/qiskit.algorithms.eigensolvers.VQDResult.html) das wir erhalten, ist völlig analog zum `VQEResult` . Der einzige Unterschied besteht darin, dass jedes Attribut eine Liste ist, deren $i$-tes Element dem $i$-ten Eigenwert entspricht."
      ]
    },
    {
      "cell_type": "markdown",
      "metadata": {
      },
      "source": [
        "Nachdem wir nun die Eigenwerte gesehen haben, vergleichen wir die experimentellen Eigenvektoren mit den theoretischen:"
      ]
    },
    {
      "cell_type": "code",
      "execution_count": null,
      "metadata": {
      },
      "outputs": [

      ],
      "source": [
        "optimal_circuits = [\n",
        "    circuit.bind_parameters(parameters)\n",
        "    for circuit, parameters in zip(result.optimal_circuits, result.optimal_parameters)\n",
        "]\n",
        "eigenstates = [Statevector(c) for c in optimal_circuits]\n",
        "\n",
        "for i, (eigenvalue, eigenstate) in enumerate(zip(result.eigenvalues, eigenstates)):\n",
        "    eigenvalue = eigenvalue.real\n",
        "    eigenstate = np.round(eigenstate.data, 3).tolist()\n",
        "    print(f\"RESULT {i}:\")\n",
        "    print(f\"  - {eigenvalue = :.3f}\")\n",
        "    print(f\"  - {eigenstate = }\")"
      ]
    },
    {
      "cell_type": "markdown",
      "metadata": {
      },
      "source": [
        "Diese Ergebnisse stimmen mit den erwarteten überein, mit Ausnahme eines kleinen Näherungsfehlers und einer globalen Phase."
      ]
    },
    {
      "attachments": {
      },
      "cell_type": "markdown",
      "metadata": {
      },
      "source": [
        "Lösen wir nun dieses Problem für die erste Observable $\\hat{O}_1 := 2 II - 2 XX + 3 YY - 3 ZZ$."
      ]
    },
    {
      "cell_type": "code",
      "execution_count": null,
      "metadata": {
      },
      "outputs": [

      ],
      "source": [
        "result = vqd.compute_eigenvalues(observable)\n",
        "\n",
        "optimal_circuits = [\n",
        "    circuit.bind_parameters(parameters)\n",
        "    for circuit, parameters in zip(result.optimal_circuits, result.optimal_parameters)\n",
        "]\n",
        "eigenstates = [Statevector(c) for c in optimal_circuits]\n",
        "\n",
        "for i, (eigenvalue, eigenstate) in enumerate(zip(result.eigenvalues, eigenstates)):\n",
        "    eigenvalue = eigenvalue.real\n",
        "    eigenstate = np.round(eigenstate.data, 3).tolist()\n",
        "    print(f\"RESULT {i}:\")\n",
        "    print(f\"  - {eigenvalue = :.3f}\")\n",
        "    print(f\"  - {eigenstate = }\")"
      ]
    },
    {
      "attachments": {
      },
      "cell_type": "markdown",
      "metadata": {
      },
      "source": [
        "Hier sind die Eigenzustände, die $\\lambda_1 = \\lambda_2 = 4$ entsprechen, nicht die gleichen wie die erwarteten:\n",
        "\n",
        "$$\n",
        "|\\phi_1\\rangle = \\frac{1}{\\sqrt{2}}(|00\\rangle - |11\\rangle) \\\\\n",
        "|\\phi_2\\rangle = \\frac{1}{\\sqrt{2}}(|01\\rangle + |10\\rangle)\n",
        "$$\n",
        "\n",
        "Dies geschieht genau deshalb, weil als $\\lambda_1=\\lambda_2$ jede komplexe Linearkombination auch ein Eigenzustand mit demselben Eigenwert ist:\n",
        "\n",
        "$$\n",
        "\\begin{aligned}\n",
        "\\alpha_1 |\\phi_1\\rangle + \\alpha_2 |\\phi_2\\rangle\n",
        "& = \\frac{1}{\\sqrt{2}}(\\alpha_1 |00\\rangle + \\alpha_2 |01\\rangle - \\alpha_2 |10\\rangle - \\alpha_1 |11\\rangle) \\\\[1mm]\n",
        "& \\equiv \\frac{1}{\\sqrt{2}}[\\alpha_1, \\alpha_2, -\\alpha_2, -\\alpha_1]\n",
        "\\end{aligned}\n",
        "$$\n",
        "\n",
        "Genau das sehen wir mit diesen Ergebnissen."
      ]
    },
    {
      "attachments": {
      },
      "cell_type": "markdown",
      "metadata": {
      },
      "source": [
        "### Betas ändern"
      ]
    },
    {
      "attachments": {
      },
      "cell_type": "markdown",
      "metadata": {
      },
      "source": [
        "Wie in der Instanzlektion erwähnt, sollten die Werte von $\\vec{\\beta}$ größer sein als die Differenz zwischen Eigenwerten. Sehen wir uns an, was passiert, wenn sie diese Bedingung mit $\\hat{O}_2$ nicht erfüllen\n",
        "\n",
        "$$\n",
        "\\hat{O}_2 = 2 II - 3 XX + 2 YY - 4 ZZ\n",
        "$$\n",
        "\n",
        "mit Eigenwerten\n",
        "\n",
        "$$\n",
        "\\left\\{\n",
        "\\begin{array}{c}\n",
        "\\lambda_0 = -7 \\\\\n",
        "\\lambda_1 = 3\\\\\n",
        "\\lambda_2 = 5 \\\\\n",
        "\\lambda_3 = 7\n",
        "\\end{array}\n",
        "\\right\\}\n",
        "$$"
      ]
    },
    {
      "cell_type": "code",
      "execution_count": null,
      "metadata": {
      },
      "outputs": [

      ],
      "source": [
        "vqd.betas = np.ones(4)\n",
        "result = vqd.compute_eigenvalues(observable_2)\n",
        "\n",
        "optimal_circuits = [\n",
        "    circuit.bind_parameters(parameters)\n",
        "    for circuit, parameters in zip(result.optimal_circuits, result.optimal_parameters)\n",
        "]\n",
        "eigenstates = [Statevector(c) for c in optimal_circuits]\n",
        "\n",
        "for i, (eigenvalue, eigenstate) in enumerate(zip(result.eigenvalues, eigenstates)):\n",
        "    eigenvalue = eigenvalue.real\n",
        "    eigenstate = np.round(eigenstate.data, 3).tolist()\n",
        "    print(f\"RESULT {i}:\")\n",
        "    print(f\"  - {eigenvalue = :.3f}\")\n",
        "    print(f\"  - {eigenstate = }\")"
      ]
    },
    {
      "attachments": {
      },
      "cell_type": "markdown",
      "metadata": {
      },
      "source": [
        "Diesmal gibt der Optimierer den gleichen Zustand $|\\phi_0\\rangle = \\frac{1}{\\sqrt{2}}(|00\\rangle + |11\\rangle)$ als vorgeschlagene Lösung für alle Eigenzustände zurück: nämlich eindeutig falsch. Dies liegt daran, dass die Betas zu klein waren, um den minimalen Eigenzustand in den aufeinanderfolgenden Kostenfunktionen zu benachteiligen. Daher wurde es in späteren Iterationen des Algorithmus nicht aus dem effektiven Suchraum ausgeschlossen und immer als bestmögliche Lösung ausgewählt.\n",
        "\n",
        "Wir empfehlen, mit den Werten von $\\vec{\\beta}$ zu experimentieren und sicherzustellen, dass sie größer sind als die Differenz zwischen den Eigenwerten. "
      ]
    },
    {
      "attachments": {
      },
      "cell_type": "markdown",
      "metadata": {
      },
      "source": [
        "## Quantenchemie: Grundzustand und angeregte Energielöser\n",
        "\n",
        "Unser Ziel ist es, den Erwartungswert der Observablen zu minimieren, die die Energie darstellen (Hamiltonian $\\hat{\\mathcal{H}}$):\n",
        "\n",
        "$$\n",
        "\\min_{\\vec\\theta} \\langle\\psi(\\vec\\theta)|\\hat{\\mathcal{H}}|\\psi(\\vec\\theta)\\rangle\n",
        "$$"
      ]
    },
    {
      "cell_type": "code",
      "execution_count": null,
      "metadata": {
      },
      "outputs": [

      ],
      "source": [
        "from qiskit_nature.units import DistanceUnit\n",
        "from qiskit_nature.second_q.drivers import PySCFDriver\n",
        "from qiskit_nature.second_q.circuit.library import HartreeFock, UCC\n",
        "from qiskit_nature.second_q.mappers import JordanWignerMapper\n",
        "from qiskit.quantum_info import SparsePauliOp\n",
        "\n",
        "H2_op = SparsePauliOp.from_list(\n",
        "    [\n",
        "        (\"II\", -1.052373245772859),\n",
        "        (\"IZ\", 0.39793742484318045),\n",
        "        (\"ZI\", -0.39793742484318045),\n",
        "        (\"ZZ\", -0.01128010425623538),\n",
        "        (\"XX\", 0.18093119978423156),\n",
        "    ]\n",
        ")\n",
        "\n",
        "driver = PySCFDriver(\n",
        "    atom=\"H 0 0 0; H 0 0 0.735\",\n",
        "    basis=\"sto3g\",\n",
        "    charge=0,\n",
        "    spin=0,\n",
        "    unit=DistanceUnit.ANGSTROM,\n",
        ")\n",
        "\n",
        "h2_problem = driver.run()\n",
        "\n",
        "mapper = JordanWignerMapper()\n",
        "\n",
        "h2_reference_state = HartreeFock(\n",
        "    num_spatial_orbitals=h2_problem.num_spatial_orbitals,\n",
        "    num_particles=h2_problem.num_particles,\n",
        "    qubit_mapper=mapper,\n",
        ")\n",
        "\n",
        "ansatz = UCC(\n",
        "    num_spatial_orbitals=h2_problem.num_spatial_orbitals,\n",
        "    num_particles=h2_problem.num_particles,\n",
        "    qubit_mapper=mapper,\n",
        "    initial_state=h2_reference_state,\n",
        "    excitations=2,\n",
        ")\n",
        "\n",
        "ansatz.decompose().decompose().draw(\"mpl\")"
      ]
    },
    {
      "cell_type": "code",
      "execution_count": null,
      "metadata": {
      },
      "outputs": [

      ],
      "source": [
        "from qiskit.algorithms.minimum_eigensolvers import VQE\n",
        "from qiskit.primitives import Sampler, Estimator\n",
        "from qiskit.algorithms.state_fidelities import ComputeUncompute\n",
        "from qiskit_nature.second_q.algorithms import GroundStateEigensolver\n",
        "\n",
        "estimator = Estimator()\n",
        "sampler = Sampler()\n",
        "fidelity = ComputeUncompute(sampler)\n",
        "\n",
        "vqe = VQE(\n",
        "    estimator=estimator,\n",
        "    ansatz=ansatz,\n",
        "    optimizer=optimizer,\n",
        "    initial_point=np.zeros(ansatz.num_parameters),\n",
        ")\n",
        "gse = GroundStateEigensolver(qubit_mapper=mapper, solver=vqe)\n",
        "result = gse.solve(h2_problem)\n",
        "\n",
        "print(result)"
      ]
    },
    {
      "attachments": {
      },
      "cell_type": "markdown",
      "metadata": {
      },
      "source": [
        "Wir können VQD auch nutzen, um nach den angeregten Zuständen zu suchen"
      ]
    },
    {
      "cell_type": "code",
      "execution_count": null,
      "metadata": {
      },
      "outputs": [

      ],
      "source": [
        "from qiskit.algorithms.eigensolvers import VQD\n",
        "\n",
        "h2_operators, _ = gse.get_qubit_operators(h2_problem)\n",
        "\n",
        "optimizer = COBYLA()\n",
        "sampler = Sampler()\n",
        "estimator = Estimator()\n",
        "fidelity = ComputeUncompute(sampler)\n",
        "\n",
        "k = 3\n",
        "betas = [33, 33, 33]\n",
        "\n",
        "vqd = VQD(\n",
        "    estimator=estimator,\n",
        "    ansatz=ansatz,\n",
        "    optimizer=optimizer,\n",
        "    fidelity=fidelity,\n",
        "    initial_point=np.zeros(ansatz.num_parameters),\n",
        "    k=k,\n",
        "    betas=betas,\n",
        ")\n",
        "result = vqd.compute_eigenvalues(operator=h2_operators)\n",
        "vqd_values = result.optimal_values\n",
        "print(vqd_values)"
      ]
    },
    {
      "attachments": {
      },
      "cell_type": "markdown",
      "metadata": {
      },
      "source": [
        "## Optimierung: Max-Cut\n",
        "\n",
        "Das Maximum-Cut-Problem (Max-Cut) ist ein kombinatorisches Optimierungsproblem, bei dem die Eckpunkte eines Graphen in zwei disjunkte Mengen so aufgeteilt werden, dass die Anzahl der Kanten zwischen den beiden Mengen maximiert wird. Formeller ausgedrückt verlangt das Max-Cut-Problem bei gegebenem ungerichteten Graphen $G=(V,E)$, wobei $V$ die Menge der Eckpunkte und $E$ die Menge der Kanten ist, die Eckpunkte in zwei disjunkte Teilmengen zu unterteilen , $S$ und $T$, so dass die Anzahl der Kanten mit einem Endpunkt in $S$ und dem anderen in $T$ maximiert wird.\n",
        "\n",
        "Wir können Max-Cut anwenden, um verschiedene Probleme zu lösen, darunter Clustering, Netzwerkdesign, Phasenübergänge usw. Wir beginnen mit der Erstellung eines Problemdiagramms:"
      ]
    },
    {
      "cell_type": "code",
      "execution_count": null,
      "metadata": {
      },
      "outputs": [

      ],
      "source": [
        "import networkx as nx\n",
        "\n",
        "n = 4\n",
        "G = nx.Graph()\n",
        "G.add_nodes_from(range(n))\n",
        "edge_list = [(0, 1, 1.0), (0, 2, 1.0), (0, 3, 1.0), (1, 2, 1.0), (2, 3, 1.0)]\n",
        "G.add_weighted_edges_from(edge_list)\n",
        "\n",
        "colors = [\"red\" for i in range(n)]\n",
        "\n",
        "\n",
        "def draw_graph(G, colors):\n",
        "    \"\"\"Draws the graph with the chose colors\"\"\"\n",
        "    layout = nx.shell_layout(G)\n",
        "    nx.draw_networkx(G, node_color=colors, pos=layout)\n",
        "    edge_labels = nx.get_edge_attributes(G, \"weight\")\n",
        "    nx.draw_networkx_edge_labels(G, pos=layout, edge_labels=edge_labels)\n",
        "\n",
        "\n",
        "draw_graph(G, colors)"
      ]
    },
    {
      "attachments": {
      },
      "cell_type": "markdown",
      "metadata": {
      },
      "source": [
        "Um bequem auf die Gewichte aller Kanten zuzugreifen, können Sie die Adjazenzmatrix verwenden. Diese Matrix kann mit [networkx.to_numpy_array()](https://networkx.org/documentation/stable/reference/generated/networkx.convert_matrix.to_numpy_array.html) abgerufen werden."
      ]
    },
    {
      "cell_type": "code",
      "execution_count": null,
      "metadata": {
      },
      "outputs": [

      ],
      "source": [
        "w = nx.to_numpy_array(G)\n",
        "print(w)"
      ]
    },
    {
      "attachments": {
      },
      "cell_type": "markdown",
      "metadata": {
      },
      "source": [
        "Das [`qiskit_optimization`](https://qiskit.org/documentation/optimization/index.html) Modul enthält eine Klasse namens [`Maxcut`](https://qiskit.org/documentation/optimization/stubs/qiskit_optimization.applications.Maxcut.html) , mit der Sie ein gewichtetes Max-Cut-Problem aus der Adjazenzmatrix $w$ definieren können. Aus diesem Problem können wir das entsprechende binäre Optimierungsproblem erhalten, das wir im vorherigen Abschnitt mit [`Maxcut.to_quadratic_program()`](https://qiskit.org/documentation/optimization/stubs/qiskit_optimization.applications.Maxcut.to_quadratic_program.html) abgeleitet haben."
      ]
    },
    {
      "cell_type": "code",
      "execution_count": null,
      "metadata": {
      },
      "outputs": [

      ],
      "source": [
        "from qiskit_optimization.applications import Maxcut\n",
        "\n",
        "max_cut = Maxcut(w)\n",
        "\n",
        "quadratic_program = max_cut.to_quadratic_program()\n",
        "print(quadratic_program.prettyprint())"
      ]
    },
    {
      "attachments": {
      },
      "cell_type": "markdown",
      "metadata": {
      },
      "source": [
        "Dieses Problem kann als binäres Optimierungsproblem ausgedrückt werden. Für jeden Knoten $0 \\leq i &lt; n$, wobei $n$ die Anzahl der Knoten des Graphen ist (in diesem Fall $n=4$), betrachten wir die binäre Variable $x_i$. Diese Variable hat den Wert $1$, wenn der Knoten $i$ zu einer der Gruppen gehört, die wir mit $1$ bezeichnen, und $0$, wenn er sich in der anderen Gruppe befindet, die wir mit $0$ bezeichnen. Wir werden auch als $w_{ij}$ (Element $(i,j)$ der Adjazenzmatrix $w$) das Gewicht der Kante bezeichnen, die vom Knoten $i$ zum Knoten $j$ verläuft. Da der Graph ungerichtet ist, gilt $w_{ij}=w_{ji}$. Dann können wir unser Problem so formulieren, dass wir die folgende Kostenfunktion maximieren:\n",
        "\n",
        "$$\n",
        "\\begin{aligned}\n",
        "C(\\vec{x})\n",
        "& =\\sum_{i,j=0}^n w_{ij} x_i(1-x_j)\\\\[1mm]\n",
        "\n",
        "& = \\sum_{i,j=0}^n w_{ij} x_i - \\sum_{i,j=0}^n w_{ij} x_ix_j\\\\[1mm]\n",
        "\n",
        "& = \\sum_{i,j=0}^n w_{ij} x_i - \\sum_{i=0}^n \\sum_{j=0}^i 2w_{ij} x_ix_j\n",
        "\\end{aligned}\n",
        "$$\n",
        "\n",
        "Um dieses Problem mit einem Quantencomputer zu lösen, werden wir die Kostenfunktion als den erwarteten Wert einer Observablen ausdrücken. Die von Qiskit anerkannten Observablen bestehen jedoch ursprünglich aus Pauli-Operatoren, die die Eigenwerte $1$ und $-1$ anstelle von $0$ und $1$ haben. Deshalb werden wir folgende Variablenänderung vornehmen:\n",
        "\n",
        "Wobei $\\vec{x}=(x_0,x_1,\\cdots ,x_{n-1})$. Wir können die Adjazenzmatrix $w$ verwenden, um bequem auf die Gewichte aller Kanten zuzugreifen. Dies wird verwendet, um unsere Kostenfunktion zu erhalten:\n",
        "\n",
        "$$\n",
        "z_i = 1-2x_i \\rightarrow x_i = \\frac{1-z_i}{2}\n",
        "$$\n",
        "\n",
        "Dies impliziert Folgendes:\n",
        "\n",
        "$$\n",
        "\\begin{array}{lcl} x_i=0 & \\rightarrow & z_i=1 \\\\ x_i=1 & \\rightarrow & z_i=-1.\\end{array}\n",
        "$$\n",
        "\n",
        "Die neue Kostenfunktion, die wir maximieren möchten, ist also:\n",
        "\n",
        "$$\n",
        "\\begin{aligned}\n",
        "C(\\vec{z})\n",
        "& = \\sum_{i,j=0}^n w_{ij} \\bigg(\\frac{1-z_i}{2}\\bigg)\\bigg(1-\\frac{1-z_j}{2}\\bigg)\\\\[1mm]\n",
        "\n",
        "& = \\sum_{i,j=0}^n \\frac{w_{ij}}{4} - \\sum_{i,j=0}^n \\frac{w_{ij}}{4} z_iz_j\\\\[1mm]\n",
        "\n",
        "& = \\sum_{i=0}^n \\sum_{j=0}^i \\frac{w_{ij}}{2} -  \\sum_{i=0}^n \\sum_{j=0}^i \\frac{w_{ij}}{2} z_iz_j\n",
        "\\end{aligned}\n",
        "$$\n",
        "\n",
        "Darüber hinaus besteht die natürliche Tendenz eines Quantencomputers darin, Minima (normalerweise die niedrigste Energie) anstelle von Maxima zu finden. Anstatt also $C(\\vec{z})$ zu maximieren, werden wir Folgendes minimieren:\n",
        "\n",
        "$$\n",
        "-C(\\vec{z}) =  \\sum_{i=0}^n \\sum_{j=0}^i \\frac{w_{ij}}{2} z_iz_j -  \\sum_{i=0}^n \\sum_{j=0}^i \\frac{w_{ij}}{2}\n",
        "$$\n",
        "\n",
        "Da wir nun eine Kostenfunktion zum Minimieren haben, deren Variablen die Werte $-1$ und $1$ haben können, können wir die folgende Analogie zum Pauli-$Z$ ziehen:\n",
        "\n",
        "$$\n",
        "z_i \\equiv Z_i = \\overbrace{I}^{n-1}\\otimes ... \\otimes \\overbrace{Z}^{i} \\otimes ... \\otimes \\overbrace{I}^{0}\n",
        "$$\n",
        "\n",
        "Mit anderen Worten, die Variable $z_i$ entspricht einem $Z$-Gate, das auf das Qubit $i$ wirkt. Darüber hinaus:\n",
        "\n",
        "$$\n",
        "Z_i|x_{n-1}\\cdots x_0\\rangle = z_i|x_{n-1}\\cdots x_0\\rangle \\rightarrow \\langle x_{n-1}\\cdots x_0 |Z_i|x_{n-1}\\cdots x_0\\rangle = z_i\n",
        "$$\n",
        "\n",
        "Dann ist die Observable, die wir betrachten werden:\n",
        "\n",
        "$$\n",
        "\\hat{H} = \\sum_{i=0}^n \\sum_{j=0}^i \\frac{w_{ij}}{2} Z_iZ_j\n",
        "$$\n",
        "\n",
        "zu dem wir anschließend den unabhängigen Term hinzufügen müssen:\n",
        "\n",
        "$$\n",
        "\\texttt{offset} = - \\sum_{i=0}^n \\sum_{j=0}^i \\frac{w_{ij}}{2}\n",
        "$$\n",
        "\n",
        "Diese Transformation kann mit [`QuadraticProgram.to_ising()`](https://qiskit.org/documentation/optimization/stubs/qiskit_optimization.QuadraticProgram.to_ising.html) durchgeführt werden."
      ]
    },
    {
      "cell_type": "code",
      "execution_count": null,
      "metadata": {
      },
      "outputs": [

      ],
      "source": [
        "observable, offset = quadratic_program.to_ising()\n",
        "print(\"Offset:\", offset)\n",
        "print(\"Ising Hamiltonian:\")\n",
        "print(str(observable))"
      ]
    },
    {
      "attachments": {
      },
      "cell_type": "markdown",
      "metadata": {
      },
      "source": [
        "Wir können eine VQE-Instanz verwenden, um die optimalen Parameter wie folgt zu finden:"
      ]
    },
    {
      "cell_type": "code",
      "execution_count": null,
      "metadata": {
      },
      "outputs": [

      ],
      "source": [
        "from qiskit.primitives import Estimator\n",
        "from qiskit.algorithms.minimum_eigensolvers import VQE\n",
        "from qiskit.algorithms.optimizers import COBYLA\n",
        "from qiskit.circuit.library import TwoLocal\n",
        "import numpy as np\n",
        "\n",
        "ansatz = TwoLocal(observable.num_qubits, \"rx\", reps=1)\n",
        "optimizer = COBYLA()\n",
        "\n",
        "vqe = VQE(\n",
        "    estimator=Estimator(),\n",
        "    ansatz=ansatz,\n",
        "    optimizer=optimizer,\n",
        "    initial_point=np.zeros(ansatz.num_parameters),\n",
        ")\n",
        "\n",
        "result = vqe.compute_minimum_eigenvalue(observable)\n",
        "\n",
        "print(result)"
      ]
    },
    {
      "cell_type": "code",
      "execution_count": null,
      "metadata": {
      },
      "outputs": [

      ],
      "source": [
        "from qiskit.quantum_info import Statevector\n",
        "\n",
        "optimal_circuit = result.optimal_circuit.bind_parameters(result.optimal_parameters)\n",
        "\n",
        "x = max_cut.sample_most_likely(Statevector(optimal_circuit))\n",
        "print(\"energy:\", result.eigenvalue.real)\n",
        "print(\"time:\", result.optimizer_time)\n",
        "print(\"max-cut objective:\", result.eigenvalue.real + offset)\n",
        "print(\"solution:\", x)\n",
        "print(\"solution objective:\", quadratic_program.objective.evaluate(x))\n",
        "\n",
        "# plot results\n",
        "colors = [\"red\" if x[i] == 0 else \"orange\" for i in range(n)]\n",
        "draw_graph(G, colors)"
      ]
    },
    {
      "attachments": {
      },
      "cell_type": "markdown",
      "metadata": {
      },
      "source": [
        "Mit dieser Lektion haben Sie gelernt:\n",
        "\n",
        "- So schreiben Sie einen benutzerdefinierten Variationsalgorithmus\n",
        "- So wenden Sie einen Variationsalgorithmus an, um minimale Eigenwerte zu finden\n",
        "- Wie man Variationsalgorithmen nutzt, um Anwendungsanwendungsfälle zu lösen\n",
        "\n",
        "Fahren Sie mit der letzten Lektion fort, um Ihre Bewertung abzulegen und Ihr Abzeichen zu erhalten!"
      ]
    }
  ],
  "metadata": {
    "kernelspec": {
      "display_name": "Python 3",
      "language": "python",
      "name": "python3"
    },
    "language_info": {
      "codemirror_mode": {
        "name": "ipython",
        "version": 3
      },
      "file_extension": ".py",
      "mimetype": "text/x-python",
      "name": "python",
      "nbconvert_exporter": "python",
      "pygments_lexer": "ipython3",
      "version": "3.9"
    }
  },
  "nbformat": 4,
  "nbformat_minor": 2
}
